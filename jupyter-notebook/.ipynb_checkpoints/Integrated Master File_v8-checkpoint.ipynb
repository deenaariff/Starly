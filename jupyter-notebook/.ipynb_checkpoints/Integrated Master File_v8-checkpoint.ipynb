{
 "cells": [
  {
   "cell_type": "markdown",
   "metadata": {
    "deletable": true,
    "editable": true
   },
   "source": [
    "# EDA/Pre-processing\n",
    "Initial EDA. \n",
    "Takes in the initial text data and returns various pre-processed data sets to the data folder."
   ]
  },
  {
   "cell_type": "markdown",
   "metadata": {
    "deletable": true,
    "editable": true
   },
   "source": [
    "## STEP 1: File Input"
   ]
  },
  {
   "cell_type": "code",
   "execution_count": 1,
   "metadata": {
    "collapsed": false,
    "deletable": true,
    "editable": true
   },
   "outputs": [
    {
     "name": "stdout",
     "output_type": "stream",
     "text": [
      "Populating the interactive namespace from numpy and matplotlib\n"
     ]
    }
   ],
   "source": [
    "%pylab inline\n",
    "import pandas as pd\n",
    "import os\n",
    "\n",
    "# data visualization\n",
    "import matplotlib.pyplot as plt\n",
    "\n",
    "# NLP\n",
    "import nltk"
   ]
  },
  {
   "cell_type": "code",
   "execution_count": 3,
   "metadata": {
    "collapsed": false,
    "deletable": true,
    "editable": true
   },
   "outputs": [
    {
     "data": {
      "text/html": [
       "<div>\n",
       "<table border=\"1\" class=\"dataframe\">\n",
       "  <thead>\n",
       "    <tr style=\"text-align: right;\">\n",
       "      <th></th>\n",
       "      <th>reviews</th>\n",
       "      <th>sentiment</th>\n",
       "    </tr>\n",
       "  </thead>\n",
       "  <tbody>\n",
       "    <tr>\n",
       "      <th>0</th>\n",
       "      <td>Crust is not good.</td>\n",
       "      <td>0</td>\n",
       "    </tr>\n",
       "    <tr>\n",
       "      <th>1</th>\n",
       "      <td>Not tasty and the texture was just nasty.</td>\n",
       "      <td>0</td>\n",
       "    </tr>\n",
       "    <tr>\n",
       "      <th>2</th>\n",
       "      <td>Stopped by during the late May bank holiday of...</td>\n",
       "      <td>1</td>\n",
       "    </tr>\n",
       "    <tr>\n",
       "      <th>3</th>\n",
       "      <td>The selection on the menu was great and so wer...</td>\n",
       "      <td>1</td>\n",
       "    </tr>\n",
       "    <tr>\n",
       "      <th>4</th>\n",
       "      <td>Now I am getting angry and I want my damn pho.</td>\n",
       "      <td>0</td>\n",
       "    </tr>\n",
       "  </tbody>\n",
       "</table>\n",
       "</div>"
      ],
      "text/plain": [
       "                                             reviews  sentiment\n",
       "0                                 Crust is not good.          0\n",
       "1          Not tasty and the texture was just nasty.          0\n",
       "2  Stopped by during the late May bank holiday of...          1\n",
       "3  The selection on the menu was great and so wer...          1\n",
       "4     Now I am getting angry and I want my damn pho.          0"
      ]
     },
     "execution_count": 3,
     "metadata": {},
     "output_type": "execute_result"
    }
   ],
   "source": [
    "# Change current working directory to the data folder\n",
    "os.getcwd()\n",
    "os.chdir(\"../data\")\n",
    "\n",
    "# Read file into pandas\n",
    "# 3 files are yelp_labelled.txt, amazon_cells_labelled.txt, imdb_labelled.txt\n",
    "txt_file = 'yelp_labelled.txt';\n",
    "df = pd.read_table(txt_file, sep='\\t')\n",
    "df.columns = ['reviews','sentiment']\n",
    "\n",
    "# Verify data read/stored correctly\n",
    "df.head()"
   ]
  },
  {
   "cell_type": "markdown",
   "metadata": {
    "deletable": true,
    "editable": true
   },
   "source": [
    "## STEP 2: Basic Statistics"
   ]
  },
  {
   "cell_type": "markdown",
   "metadata": {
    "deletable": true,
    "editable": true
   },
   "source": [
    "### Basic Statistics"
   ]
  },
  {
   "cell_type": "code",
   "execution_count": 3,
   "metadata": {
    "collapsed": false,
    "deletable": true,
    "editable": true
   },
   "outputs": [
    {
     "data": {
      "text/html": [
       "<div>\n",
       "<table border=\"1\" class=\"dataframe\">\n",
       "  <thead>\n",
       "    <tr style=\"text-align: right;\">\n",
       "      <th></th>\n",
       "      <th>reviews</th>\n",
       "      <th>sentiment</th>\n",
       "    </tr>\n",
       "  </thead>\n",
       "  <tbody>\n",
       "    <tr>\n",
       "      <th>count</th>\n",
       "      <td>999</td>\n",
       "      <td>999.000000</td>\n",
       "    </tr>\n",
       "    <tr>\n",
       "      <th>unique</th>\n",
       "      <td>995</td>\n",
       "      <td>NaN</td>\n",
       "    </tr>\n",
       "    <tr>\n",
       "      <th>top</th>\n",
       "      <td>The food was terrible.</td>\n",
       "      <td>NaN</td>\n",
       "    </tr>\n",
       "    <tr>\n",
       "      <th>freq</th>\n",
       "      <td>2</td>\n",
       "      <td>NaN</td>\n",
       "    </tr>\n",
       "    <tr>\n",
       "      <th>mean</th>\n",
       "      <td>NaN</td>\n",
       "      <td>0.499499</td>\n",
       "    </tr>\n",
       "    <tr>\n",
       "      <th>std</th>\n",
       "      <td>NaN</td>\n",
       "      <td>0.500250</td>\n",
       "    </tr>\n",
       "    <tr>\n",
       "      <th>min</th>\n",
       "      <td>NaN</td>\n",
       "      <td>0.000000</td>\n",
       "    </tr>\n",
       "    <tr>\n",
       "      <th>25%</th>\n",
       "      <td>NaN</td>\n",
       "      <td>0.000000</td>\n",
       "    </tr>\n",
       "    <tr>\n",
       "      <th>50%</th>\n",
       "      <td>NaN</td>\n",
       "      <td>0.000000</td>\n",
       "    </tr>\n",
       "    <tr>\n",
       "      <th>75%</th>\n",
       "      <td>NaN</td>\n",
       "      <td>1.000000</td>\n",
       "    </tr>\n",
       "    <tr>\n",
       "      <th>max</th>\n",
       "      <td>NaN</td>\n",
       "      <td>1.000000</td>\n",
       "    </tr>\n",
       "  </tbody>\n",
       "</table>\n",
       "</div>"
      ],
      "text/plain": [
       "                       reviews   sentiment\n",
       "count                      999  999.000000\n",
       "unique                     995         NaN\n",
       "top     The food was terrible.         NaN\n",
       "freq                         2         NaN\n",
       "mean                       NaN    0.499499\n",
       "std                        NaN    0.500250\n",
       "min                        NaN    0.000000\n",
       "25%                        NaN    0.000000\n",
       "50%                        NaN    0.000000\n",
       "75%                        NaN    1.000000\n",
       "max                        NaN    1.000000"
      ]
     },
     "execution_count": 3,
     "metadata": {},
     "output_type": "execute_result"
    }
   ],
   "source": [
    "df.describe(include=\"all\")"
   ]
  },
  {
   "cell_type": "markdown",
   "metadata": {
    "deletable": true,
    "editable": true
   },
   "source": [
    "### More Complex Visualizations"
   ]
  },
  {
   "cell_type": "code",
   "execution_count": 4,
   "metadata": {
    "collapsed": true,
    "deletable": true,
    "editable": true
   },
   "outputs": [],
   "source": [
    "# Mapping length of sentences\n",
    "def len_vis(data_col):\n",
    "    t_col = data_col.apply(lambda x: len(x))\n",
    "    fig=plt.figure() #Plots in matplotlib reside within a figure object, use plt.figure to create new figure\n",
    "    #Create one or more subplots using add_subplot, because you can't create blank figure\n",
    "    ax = fig.add_subplot(1,1,1)\n",
    "    #Variable\n",
    "    ax.hist(t_col,bins = 50) # Here you can play with number of bins\n",
    "\n",
    "    plt.title('Length Distribution')\n",
    "    plt.xlabel('Length')\n",
    "    plt.ylabel('Frequency')\n",
    "    plt.show()"
   ]
  },
  {
   "cell_type": "code",
   "execution_count": 5,
   "metadata": {
    "collapsed": false,
    "deletable": true,
    "editable": true
   },
   "outputs": [
    {
     "data": {
      "image/png": "[encoded data removed]",
      "text/plain": [
       "<matplotlib.figure.Figure at 0x10bfb7090>"
      ]
     },
     "metadata": {},
     "output_type": "display_data"
    }
   ],
   "source": [
    "len_vis(df['reviews'])"
   ]
  },
  {
   "cell_type": "markdown",
   "metadata": {
    "deletable": true,
    "editable": true
   },
   "source": [
    "## STEP 3: Clean data"
   ]
  },
  {
   "cell_type": "markdown",
   "metadata": {
    "deletable": true,
    "editable": true
   },
   "source": [
    "### Count_unique method\n",
    "Allows us to count the number of unique words which will be the number of words in our bag-of-words model. A simple statistic for basic insight on the impact of our data cleaning."
   ]
  },
  {
   "cell_type": "code",
   "execution_count": 6,
   "metadata": {
    "collapsed": true,
    "deletable": true,
    "editable": true
   },
   "outputs": [],
   "source": [
    "def count_unique(words):\n",
    "    uniq = set()\n",
    "    for sentence in words:\n",
    "        for word in sentence:\n",
    "            uniq.add(word)\n",
    "    return len(uniq)"
   ]
  },
  {
   "cell_type": "markdown",
   "metadata": {
    "deletable": true,
    "editable": true
   },
   "source": [
    "### Tokenize"
   ]
  },
  {
   "cell_type": "code",
   "execution_count": 7,
   "metadata": {
    "collapsed": true,
    "deletable": true,
    "editable": true
   },
   "outputs": [],
   "source": [
    "#Remove problems with encoding\n",
    "df['reviews'] = df['reviews'].apply(lambda x: unicode(x, errors=\"ignore\"))"
   ]
  },
  {
   "cell_type": "code",
   "execution_count": 8,
   "metadata": {
    "collapsed": false,
    "deletable": true,
    "editable": true
   },
   "outputs": [
    {
     "data": {
      "text/html": [
       "<div>\n",
       "<table border=\"1\" class=\"dataframe\">\n",
       "  <thead>\n",
       "    <tr style=\"text-align: right;\">\n",
       "      <th></th>\n",
       "      <th>reviews</th>\n",
       "      <th>sentiment</th>\n",
       "    </tr>\n",
       "  </thead>\n",
       "  <tbody>\n",
       "    <tr>\n",
       "      <th>0</th>\n",
       "      <td>[crust, is, not, good]</td>\n",
       "      <td>0</td>\n",
       "    </tr>\n",
       "    <tr>\n",
       "      <th>1</th>\n",
       "      <td>[not, tasty, and, the, texture, was, just, nasty]</td>\n",
       "      <td>0</td>\n",
       "    </tr>\n",
       "    <tr>\n",
       "      <th>2</th>\n",
       "      <td>[stopped, by, during, the, late, may, bank, ho...</td>\n",
       "      <td>1</td>\n",
       "    </tr>\n",
       "    <tr>\n",
       "      <th>3</th>\n",
       "      <td>[the, selection, on, the, menu, was, great, an...</td>\n",
       "      <td>1</td>\n",
       "    </tr>\n",
       "    <tr>\n",
       "      <th>4</th>\n",
       "      <td>[now, i, am, getting, angry, and, i, want, my,...</td>\n",
       "      <td>0</td>\n",
       "    </tr>\n",
       "  </tbody>\n",
       "</table>\n",
       "</div>"
      ],
      "text/plain": [
       "                                             reviews  sentiment\n",
       "0                             [crust, is, not, good]          0\n",
       "1  [not, tasty, and, the, texture, was, just, nasty]          0\n",
       "2  [stopped, by, during, the, late, may, bank, ho...          1\n",
       "3  [the, selection, on, the, menu, was, great, an...          1\n",
       "4  [now, i, am, getting, angry, and, i, want, my,...          0"
      ]
     },
     "execution_count": 8,
     "metadata": {},
     "output_type": "execute_result"
    }
   ],
   "source": [
    "#tokenize without the punctuation\n",
    "from nltk.tokenize import RegexpTokenizer\n",
    "\n",
    "tokenizer = RegexpTokenizer(r'\\w+')\n",
    "# make reviews lowercase\n",
    "df['reviews'] = df['reviews'].apply(lambda x: x.lower())\n",
    "# tokenize\n",
    "df['reviews'] = df['reviews'].apply(lambda x: tokenizer.tokenize(x))\n",
    "# visual check\n",
    "df.head()"
   ]
  },
  {
   "cell_type": "code",
   "execution_count": 9,
   "metadata": {
    "collapsed": false,
    "deletable": true,
    "editable": true
   },
   "outputs": [
    {
     "data": {
      "text/plain": [
       "2049"
      ]
     },
     "execution_count": 9,
     "metadata": {},
     "output_type": "execute_result"
    }
   ],
   "source": [
    "# Check feature count\n",
    "count_unique(df['reviews'])"
   ]
  },
  {
   "cell_type": "markdown",
   "metadata": {
    "deletable": true,
    "editable": true
   },
   "source": [
    "### POS Tagging/Removal"
   ]
  },
  {
   "cell_type": "code",
   "execution_count": 10,
   "metadata": {
    "collapsed": true,
    "deletable": true,
    "editable": true
   },
   "outputs": [],
   "source": [
    "# POS tag\n",
    "df['posr']= df['reviews'].apply(lambda x: nltk.pos_tag(x))\n",
    "# Leave the non POS removal ones alone\n",
    "df['nposr'] = df['reviews']"
   ]
  },
  {
   "cell_type": "code",
   "execution_count": 11,
   "metadata": {
    "collapsed": false,
    "deletable": true,
    "editable": true
   },
   "outputs": [
    {
     "data": {
      "image/png": "[encoded data removed]",
      "text/plain": [
       "<matplotlib.figure.Figure at 0x10c1f3450>"
      ]
     },
     "metadata": {},
     "output_type": "display_data"
    }
   ],
   "source": [
    "# Visualize Parts of Speech\n",
    "pos_dict = {}\n",
    "for sent in df['posr']:\n",
    "    for pair in sent:\n",
    "        if pair[1] in pos_dict:\n",
    "            pos_dict[pair[1]].add(pair[0])\n",
    "        else:\n",
    "            pos_dict.update({pair[1]: set(pair[0])})\n",
    "\n",
    "# Pie chart of POS distribution\n",
    "temp = pos_dict.values()\n",
    "x_list = []\n",
    "for x in temp: \n",
    "    x_list.append(len(x))\n",
    "label_list = pos_dict.keys()\n",
    "pyplot.axis(\"equal\") #The pie chart is oval by default. To make it a circle use pyplot.axis(\"equal\")\n",
    "#To show the percentage of each pie slice, pass an output format to the autopctparameter \n",
    "plt.pie(x_list,labels=label_list) \n",
    "plt.title(\"POS Distribution\")\n",
    "plt.show()    "
   ]
  },
  {
   "cell_type": "code",
   "execution_count": 12,
   "metadata": {
    "collapsed": false,
    "deletable": true,
    "editable": true
   },
   "outputs": [
    {
     "data": {
      "text/html": [
       "<div>\n",
       "<table border=\"1\" class=\"dataframe\">\n",
       "  <thead>\n",
       "    <tr style=\"text-align: right;\">\n",
       "      <th></th>\n",
       "      <th>reviews</th>\n",
       "      <th>sentiment</th>\n",
       "      <th>posr</th>\n",
       "      <th>nposr</th>\n",
       "    </tr>\n",
       "  </thead>\n",
       "  <tbody>\n",
       "    <tr>\n",
       "      <th>0</th>\n",
       "      <td>[crust, is, not, good]</td>\n",
       "      <td>0</td>\n",
       "      <td>[(crust, NN), (is, VBZ), (not, RB), (good, JJ)]</td>\n",
       "      <td>[crust, is, not, good]</td>\n",
       "    </tr>\n",
       "    <tr>\n",
       "      <th>1</th>\n",
       "      <td>[not, tasty, and, the, texture, was, just, nasty]</td>\n",
       "      <td>0</td>\n",
       "      <td>[(not, RB), (tasty, JJ), (and, CC), (the, DT),...</td>\n",
       "      <td>[not, tasty, and, the, texture, was, just, nasty]</td>\n",
       "    </tr>\n",
       "    <tr>\n",
       "      <th>2</th>\n",
       "      <td>[stopped, by, during, the, late, may, bank, ho...</td>\n",
       "      <td>1</td>\n",
       "      <td>[(stopped, VBN), (by, IN), (during, IN), (the,...</td>\n",
       "      <td>[stopped, by, during, the, late, may, bank, ho...</td>\n",
       "    </tr>\n",
       "    <tr>\n",
       "      <th>3</th>\n",
       "      <td>[the, selection, on, the, menu, was, great, an...</td>\n",
       "      <td>1</td>\n",
       "      <td>[(the, DT), (selection, NN), (on, IN), (the, D...</td>\n",
       "      <td>[the, selection, on, the, menu, was, great, an...</td>\n",
       "    </tr>\n",
       "    <tr>\n",
       "      <th>4</th>\n",
       "      <td>[now, i, am, getting, angry, and, i, want, my,...</td>\n",
       "      <td>0</td>\n",
       "      <td>[(now, RB), (i, VBZ), (am, VBP), (getting, VBG...</td>\n",
       "      <td>[now, i, am, getting, angry, and, i, want, my,...</td>\n",
       "    </tr>\n",
       "  </tbody>\n",
       "</table>\n",
       "</div>"
      ],
      "text/plain": [
       "                                             reviews  sentiment  \\\n",
       "0                             [crust, is, not, good]          0   \n",
       "1  [not, tasty, and, the, texture, was, just, nasty]          0   \n",
       "2  [stopped, by, during, the, late, may, bank, ho...          1   \n",
       "3  [the, selection, on, the, menu, was, great, an...          1   \n",
       "4  [now, i, am, getting, angry, and, i, want, my,...          0   \n",
       "\n",
       "                                                posr  \\\n",
       "0    [(crust, NN), (is, VBZ), (not, RB), (good, JJ)]   \n",
       "1  [(not, RB), (tasty, JJ), (and, CC), (the, DT),...   \n",
       "2  [(stopped, VBN), (by, IN), (during, IN), (the,...   \n",
       "3  [(the, DT), (selection, NN), (on, IN), (the, D...   \n",
       "4  [(now, RB), (i, VBZ), (am, VBP), (getting, VBG...   \n",
       "\n",
       "                                               nposr  \n",
       "0                             [crust, is, not, good]  \n",
       "1  [not, tasty, and, the, texture, was, just, nasty]  \n",
       "2  [stopped, by, during, the, late, may, bank, ho...  \n",
       "3  [the, selection, on, the, menu, was, great, an...  \n",
       "4  [now, i, am, getting, angry, and, i, want, my,...  "
      ]
     },
     "execution_count": 12,
     "metadata": {},
     "output_type": "execute_result"
    }
   ],
   "source": [
    "df.head()"
   ]
  },
  {
   "cell_type": "code",
   "execution_count": 13,
   "metadata": {
    "collapsed": false,
    "deletable": true,
    "editable": true
   },
   "outputs": [
    {
     "data": {
      "text/html": [
       "<div>\n",
       "<table border=\"1\" class=\"dataframe\">\n",
       "  <thead>\n",
       "    <tr style=\"text-align: right;\">\n",
       "      <th></th>\n",
       "      <th>reviews</th>\n",
       "      <th>sentiment</th>\n",
       "      <th>posr</th>\n",
       "      <th>nposr</th>\n",
       "    </tr>\n",
       "  </thead>\n",
       "  <tbody>\n",
       "    <tr>\n",
       "      <th>0</th>\n",
       "      <td>[crust, is, not, good]</td>\n",
       "      <td>0</td>\n",
       "      <td>[crust, is, not, good]</td>\n",
       "      <td>[crust, is, not, good]</td>\n",
       "    </tr>\n",
       "    <tr>\n",
       "      <th>1</th>\n",
       "      <td>[not, tasty, and, the, texture, was, just, nasty]</td>\n",
       "      <td>0</td>\n",
       "      <td>[not, tasty, texture, was, just, nasty]</td>\n",
       "      <td>[not, tasty, and, the, texture, was, just, nasty]</td>\n",
       "    </tr>\n",
       "    <tr>\n",
       "      <th>2</th>\n",
       "      <td>[stopped, by, during, the, late, may, bank, ho...</td>\n",
       "      <td>1</td>\n",
       "      <td>[stopped, late, bank, holiday, rick, steve, re...</td>\n",
       "      <td>[stopped, by, during, the, late, may, bank, ho...</td>\n",
       "    </tr>\n",
       "    <tr>\n",
       "      <th>3</th>\n",
       "      <td>[the, selection, on, the, menu, was, great, an...</td>\n",
       "      <td>1</td>\n",
       "      <td>[selection, menu, was, great, so, were, prices]</td>\n",
       "      <td>[the, selection, on, the, menu, was, great, an...</td>\n",
       "    </tr>\n",
       "    <tr>\n",
       "      <th>4</th>\n",
       "      <td>[now, i, am, getting, angry, and, i, want, my,...</td>\n",
       "      <td>0</td>\n",
       "      <td>[now, i, getting, angry, i, damn, pho]</td>\n",
       "      <td>[now, i, am, getting, angry, and, i, want, my,...</td>\n",
       "    </tr>\n",
       "  </tbody>\n",
       "</table>\n",
       "</div>"
      ],
      "text/plain": [
       "                                             reviews  sentiment  \\\n",
       "0                             [crust, is, not, good]          0   \n",
       "1  [not, tasty, and, the, texture, was, just, nasty]          0   \n",
       "2  [stopped, by, during, the, late, may, bank, ho...          1   \n",
       "3  [the, selection, on, the, menu, was, great, an...          1   \n",
       "4  [now, i, am, getting, angry, and, i, want, my,...          0   \n",
       "\n",
       "                                                posr  \\\n",
       "0                             [crust, is, not, good]   \n",
       "1            [not, tasty, texture, was, just, nasty]   \n",
       "2  [stopped, late, bank, holiday, rick, steve, re...   \n",
       "3    [selection, menu, was, great, so, were, prices]   \n",
       "4             [now, i, getting, angry, i, damn, pho]   \n",
       "\n",
       "                                               nposr  \n",
       "0                             [crust, is, not, good]  \n",
       "1  [not, tasty, and, the, texture, was, just, nasty]  \n",
       "2  [stopped, by, during, the, late, may, bank, ho...  \n",
       "3  [the, selection, on, the, menu, was, great, an...  \n",
       "4  [now, i, am, getting, angry, and, i, want, my,...  "
      ]
     },
     "execution_count": 13,
     "metadata": {},
     "output_type": "execute_result"
    }
   ],
   "source": [
    "# Collection of adjectives, nouns, adverbs and verbs to keep\n",
    "pos_keep = [\"JJ\",\"JJR\",\"JJS\",\"NN\",\"NNP\",\"NNS\",\"RB\",\"RBR\",\"VB\",\"VBD\",\"VBG\",\"VBN\",\"VBZ\"]\n",
    "\n",
    "\n",
    "def remove_pos(full):\n",
    "    redc =[]\n",
    "    for pair in full:\n",
    "        if pair[1] in pos_keep:\n",
    "            redc.append(pair[0])\n",
    "    return redc\n",
    "# Remove the words that are not in pos_keep\n",
    "df['posr']= df['posr'].apply(lambda x: remove_pos(x))\n",
    "\n",
    "df.head()"
   ]
  },
  {
   "cell_type": "code",
   "execution_count": 14,
   "metadata": {
    "collapsed": false,
    "deletable": true,
    "editable": true
   },
   "outputs": [
    {
     "name": "stdout",
     "output_type": "stream",
     "text": [
      "1894\n"
     ]
    }
   ],
   "source": [
    "print(count_unique(df['posr']))"
   ]
  },
  {
   "cell_type": "markdown",
   "metadata": {
    "deletable": true,
    "editable": true
   },
   "source": [
    "### Remove Stopwords"
   ]
  },
  {
   "cell_type": "code",
   "execution_count": 15,
   "metadata": {
    "collapsed": false,
    "deletable": true,
    "editable": true
   },
   "outputs": [
    {
     "data": {
      "text/html": [
       "<div>\n",
       "<table border=\"1\" class=\"dataframe\">\n",
       "  <thead>\n",
       "    <tr style=\"text-align: right;\">\n",
       "      <th></th>\n",
       "      <th>reviews</th>\n",
       "      <th>sentiment</th>\n",
       "      <th>posr</th>\n",
       "      <th>nposr</th>\n",
       "      <th>posr_stpd</th>\n",
       "      <th>nposr_stpd</th>\n",
       "      <th>posr_nstpd</th>\n",
       "      <th>nposr_nstpd</th>\n",
       "    </tr>\n",
       "  </thead>\n",
       "  <tbody>\n",
       "    <tr>\n",
       "      <th>0</th>\n",
       "      <td>[crust, is, not, good]</td>\n",
       "      <td>0</td>\n",
       "      <td>[crust, is, not, good]</td>\n",
       "      <td>[crust, is, not, good]</td>\n",
       "      <td>[crust, not, good]</td>\n",
       "      <td>[crust, not, good]</td>\n",
       "      <td>[crust, is, not, good]</td>\n",
       "      <td>[crust, is, not, good]</td>\n",
       "    </tr>\n",
       "    <tr>\n",
       "      <th>1</th>\n",
       "      <td>[not, tasty, and, the, texture, was, just, nasty]</td>\n",
       "      <td>0</td>\n",
       "      <td>[not, tasty, texture, was, just, nasty]</td>\n",
       "      <td>[not, tasty, and, the, texture, was, just, nasty]</td>\n",
       "      <td>[not, tasty, texture, nasty]</td>\n",
       "      <td>[not, tasty, texture, nasty]</td>\n",
       "      <td>[not, tasty, texture, was, just, nasty]</td>\n",
       "      <td>[not, tasty, and, the, texture, was, just, nasty]</td>\n",
       "    </tr>\n",
       "    <tr>\n",
       "      <th>2</th>\n",
       "      <td>[stopped, by, during, the, late, may, bank, ho...</td>\n",
       "      <td>1</td>\n",
       "      <td>[stopped, late, bank, holiday, rick, steve, re...</td>\n",
       "      <td>[stopped, by, during, the, late, may, bank, ho...</td>\n",
       "      <td>[stopped, late, bank, holiday, rick, steve, re...</td>\n",
       "      <td>[stopped, late, may, bank, holiday, rick, stev...</td>\n",
       "      <td>[stopped, late, bank, holiday, rick, steve, re...</td>\n",
       "      <td>[stopped, by, during, the, late, may, bank, ho...</td>\n",
       "    </tr>\n",
       "    <tr>\n",
       "      <th>3</th>\n",
       "      <td>[the, selection, on, the, menu, was, great, an...</td>\n",
       "      <td>1</td>\n",
       "      <td>[selection, menu, was, great, so, were, prices]</td>\n",
       "      <td>[the, selection, on, the, menu, was, great, an...</td>\n",
       "      <td>[selection, menu, great, prices]</td>\n",
       "      <td>[selection, menu, great, prices]</td>\n",
       "      <td>[selection, menu, was, great, so, were, prices]</td>\n",
       "      <td>[the, selection, on, the, menu, was, great, an...</td>\n",
       "    </tr>\n",
       "    <tr>\n",
       "      <th>4</th>\n",
       "      <td>[now, i, am, getting, angry, and, i, want, my,...</td>\n",
       "      <td>0</td>\n",
       "      <td>[now, i, getting, angry, i, damn, pho]</td>\n",
       "      <td>[now, i, am, getting, angry, and, i, want, my,...</td>\n",
       "      <td>[getting, angry, damn, pho]</td>\n",
       "      <td>[getting, angry, want, damn, pho]</td>\n",
       "      <td>[now, i, getting, angry, i, damn, pho]</td>\n",
       "      <td>[now, i, am, getting, angry, and, i, want, my,...</td>\n",
       "    </tr>\n",
       "  </tbody>\n",
       "</table>\n",
       "</div>"
      ],
      "text/plain": [
       "                                             reviews  sentiment  \\\n",
       "0                             [crust, is, not, good]          0   \n",
       "1  [not, tasty, and, the, texture, was, just, nasty]          0   \n",
       "2  [stopped, by, during, the, late, may, bank, ho...          1   \n",
       "3  [the, selection, on, the, menu, was, great, an...          1   \n",
       "4  [now, i, am, getting, angry, and, i, want, my,...          0   \n",
       "\n",
       "                                                posr  \\\n",
       "0                             [crust, is, not, good]   \n",
       "1            [not, tasty, texture, was, just, nasty]   \n",
       "2  [stopped, late, bank, holiday, rick, steve, re...   \n",
       "3    [selection, menu, was, great, so, were, prices]   \n",
       "4             [now, i, getting, angry, i, damn, pho]   \n",
       "\n",
       "                                               nposr  \\\n",
       "0                             [crust, is, not, good]   \n",
       "1  [not, tasty, and, the, texture, was, just, nasty]   \n",
       "2  [stopped, by, during, the, late, may, bank, ho...   \n",
       "3  [the, selection, on, the, menu, was, great, an...   \n",
       "4  [now, i, am, getting, angry, and, i, want, my,...   \n",
       "\n",
       "                                           posr_stpd  \\\n",
       "0                                 [crust, not, good]   \n",
       "1                       [not, tasty, texture, nasty]   \n",
       "2  [stopped, late, bank, holiday, rick, steve, re...   \n",
       "3                   [selection, menu, great, prices]   \n",
       "4                        [getting, angry, damn, pho]   \n",
       "\n",
       "                                          nposr_stpd  \\\n",
       "0                                 [crust, not, good]   \n",
       "1                       [not, tasty, texture, nasty]   \n",
       "2  [stopped, late, may, bank, holiday, rick, stev...   \n",
       "3                   [selection, menu, great, prices]   \n",
       "4                  [getting, angry, want, damn, pho]   \n",
       "\n",
       "                                          posr_nstpd  \\\n",
       "0                             [crust, is, not, good]   \n",
       "1            [not, tasty, texture, was, just, nasty]   \n",
       "2  [stopped, late, bank, holiday, rick, steve, re...   \n",
       "3    [selection, menu, was, great, so, were, prices]   \n",
       "4             [now, i, getting, angry, i, damn, pho]   \n",
       "\n",
       "                                         nposr_nstpd  \n",
       "0                             [crust, is, not, good]  \n",
       "1  [not, tasty, and, the, texture, was, just, nasty]  \n",
       "2  [stopped, by, during, the, late, may, bank, ho...  \n",
       "3  [the, selection, on, the, menu, was, great, an...  \n",
       "4  [now, i, am, getting, angry, and, i, want, my,...  "
      ]
     },
     "execution_count": 15,
     "metadata": {},
     "output_type": "execute_result"
    }
   ],
   "source": [
    "# Import the list of stopwords from NLTK\n",
    "from nltk.corpus import stopwords\n",
    "\n",
    "# Remove the stopwords and store in \"No Stops\" column\n",
    "stop = set(stopwords.words('english'))\n",
    "# Ensure \"not\" is kept\n",
    "stop.remove(\"not\")\n",
    "df['posr_stpd'] = df['posr'].apply(lambda x: [item for item in x if item not in stop])\n",
    "df['nposr_stpd'] = df['nposr'].apply(lambda x: [item for item in x if item not in stop])\n",
    "df['posr_nstpd'] = df['posr']\n",
    "df['nposr_nstpd'] = df['nposr']\n",
    "# visual check\n",
    "df.head()"
   ]
  },
  {
   "cell_type": "code",
   "execution_count": 16,
   "metadata": {
    "collapsed": false,
    "deletable": true,
    "editable": true
   },
   "outputs": [
    {
     "data": {
      "text/plain": [
       "1834"
      ]
     },
     "execution_count": 16,
     "metadata": {},
     "output_type": "execute_result"
    }
   ],
   "source": [
    "# check feature count\n",
    "count_unique(df['posr_stpd'])"
   ]
  },
  {
   "cell_type": "markdown",
   "metadata": {
    "deletable": true,
    "editable": true
   },
   "source": [
    "### Stemming.\n",
    "We will test three different stemmers. Porter, Snowball, Lancaster"
   ]
  },
  {
   "cell_type": "code",
   "execution_count": 17,
   "metadata": {
    "collapsed": false,
    "deletable": true,
    "editable": true
   },
   "outputs": [
    {
     "data": {
      "text/html": [
       "<div>\n",
       "<table border=\"1\" class=\"dataframe\">\n",
       "  <thead>\n",
       "    <tr style=\"text-align: right;\">\n",
       "      <th></th>\n",
       "      <th>reviews</th>\n",
       "      <th>sentiment</th>\n",
       "      <th>posr</th>\n",
       "      <th>nposr</th>\n",
       "      <th>posr_stpd</th>\n",
       "      <th>nposr_stpd</th>\n",
       "      <th>posr_nstpd</th>\n",
       "      <th>nposr_nstpd</th>\n",
       "      <th>nposr_nstpd_nstem</th>\n",
       "      <th>posr_nstpd_nstem</th>\n",
       "      <th>...</th>\n",
       "      <th>nposr_stpd_port</th>\n",
       "      <th>posr_stpd_port</th>\n",
       "      <th>nposr_nstpd_snow</th>\n",
       "      <th>posr_nstpd_snow</th>\n",
       "      <th>nposr_stpd_snow</th>\n",
       "      <th>posr_stpd_snow</th>\n",
       "      <th>nposr_nstpd_lanc</th>\n",
       "      <th>posr_nstpd_lanc</th>\n",
       "      <th>nposr_stpd_lanc</th>\n",
       "      <th>posr_stpd_lanc</th>\n",
       "    </tr>\n",
       "  </thead>\n",
       "  <tbody>\n",
       "    <tr>\n",
       "      <th>0</th>\n",
       "      <td>[crust, is, not, good]</td>\n",
       "      <td>0</td>\n",
       "      <td>[crust, is, not, good]</td>\n",
       "      <td>[crust, is, not, good]</td>\n",
       "      <td>[crust, not, good]</td>\n",
       "      <td>[crust, not, good]</td>\n",
       "      <td>[crust, is, not, good]</td>\n",
       "      <td>[crust, is, not, good]</td>\n",
       "      <td>[crust, is, not, good]</td>\n",
       "      <td>[crust, is, not, good]</td>\n",
       "      <td>...</td>\n",
       "      <td>[crust, not, good]</td>\n",
       "      <td>[crust, not, good]</td>\n",
       "      <td>[crust, is, not, good]</td>\n",
       "      <td>[crust, is, not, good]</td>\n",
       "      <td>[crust, not, good]</td>\n",
       "      <td>[crust, not, good]</td>\n",
       "      <td>[crust, is, not, good]</td>\n",
       "      <td>[crust, is, not, good]</td>\n",
       "      <td>[crust, not, good]</td>\n",
       "      <td>[crust, not, good]</td>\n",
       "    </tr>\n",
       "    <tr>\n",
       "      <th>1</th>\n",
       "      <td>[not, tasty, and, the, texture, was, just, nasty]</td>\n",
       "      <td>0</td>\n",
       "      <td>[not, tasty, texture, was, just, nasty]</td>\n",
       "      <td>[not, tasty, and, the, texture, was, just, nasty]</td>\n",
       "      <td>[not, tasty, texture, nasty]</td>\n",
       "      <td>[not, tasty, texture, nasty]</td>\n",
       "      <td>[not, tasty, texture, was, just, nasty]</td>\n",
       "      <td>[not, tasty, and, the, texture, was, just, nasty]</td>\n",
       "      <td>[not, tasty, and, the, texture, was, just, nasty]</td>\n",
       "      <td>[not, tasty, texture, was, just, nasty]</td>\n",
       "      <td>...</td>\n",
       "      <td>[not, tasti, textur, nasti]</td>\n",
       "      <td>[not, tasti, textur, nasti]</td>\n",
       "      <td>[not, tasti, and, the, textur, was, just, nasti]</td>\n",
       "      <td>[not, tasti, textur, was, just, nasti]</td>\n",
       "      <td>[not, tasti, textur, nasti]</td>\n",
       "      <td>[not, tasti, textur, nasti]</td>\n",
       "      <td>[not, tasty, and, the, text, was, just, nasty]</td>\n",
       "      <td>[not, tasty, text, was, just, nasty]</td>\n",
       "      <td>[not, tasty, text, nasty]</td>\n",
       "      <td>[not, tasty, text, nasty]</td>\n",
       "    </tr>\n",
       "    <tr>\n",
       "      <th>2</th>\n",
       "      <td>[stopped, by, during, the, late, may, bank, ho...</td>\n",
       "      <td>1</td>\n",
       "      <td>[stopped, late, bank, holiday, rick, steve, re...</td>\n",
       "      <td>[stopped, by, during, the, late, may, bank, ho...</td>\n",
       "      <td>[stopped, late, bank, holiday, rick, steve, re...</td>\n",
       "      <td>[stopped, late, may, bank, holiday, rick, stev...</td>\n",
       "      <td>[stopped, late, bank, holiday, rick, steve, re...</td>\n",
       "      <td>[stopped, by, during, the, late, may, bank, ho...</td>\n",
       "      <td>[stopped, by, during, the, late, may, bank, ho...</td>\n",
       "      <td>[stopped, late, bank, holiday, rick, steve, re...</td>\n",
       "      <td>...</td>\n",
       "      <td>[stop, late, may, bank, holiday, rick, steve, ...</td>\n",
       "      <td>[stop, late, bank, holiday, rick, steve, recom...</td>\n",
       "      <td>[stop, by, dure, the, late, may, bank, holiday...</td>\n",
       "      <td>[stop, late, bank, holiday, rick, steve, recom...</td>\n",
       "      <td>[stop, late, may, bank, holiday, rick, steve, ...</td>\n",
       "      <td>[stop, late, bank, holiday, rick, steve, recom...</td>\n",
       "      <td>[stop, by, dur, the, lat, may, bank, holiday, ...</td>\n",
       "      <td>[stop, lat, bank, holiday, rick, stev, recomme...</td>\n",
       "      <td>[stop, lat, may, bank, holiday, rick, stev, re...</td>\n",
       "      <td>[stop, lat, bank, holiday, rick, stev, recomme...</td>\n",
       "    </tr>\n",
       "    <tr>\n",
       "      <th>3</th>\n",
       "      <td>[the, selection, on, the, menu, was, great, an...</td>\n",
       "      <td>1</td>\n",
       "      <td>[selection, menu, was, great, so, were, prices]</td>\n",
       "      <td>[the, selection, on, the, menu, was, great, an...</td>\n",
       "      <td>[selection, menu, great, prices]</td>\n",
       "      <td>[selection, menu, great, prices]</td>\n",
       "      <td>[selection, menu, was, great, so, were, prices]</td>\n",
       "      <td>[the, selection, on, the, menu, was, great, an...</td>\n",
       "      <td>[the, selection, on, the, menu, was, great, an...</td>\n",
       "      <td>[selection, menu, was, great, so, were, prices]</td>\n",
       "      <td>...</td>\n",
       "      <td>[select, menu, great, price]</td>\n",
       "      <td>[select, menu, great, price]</td>\n",
       "      <td>[the, select, on, the, menu, was, great, and, ...</td>\n",
       "      <td>[select, menu, was, great, so, were, price]</td>\n",
       "      <td>[select, menu, great, price]</td>\n",
       "      <td>[select, menu, great, price]</td>\n",
       "      <td>[the, select, on, the, menu, was, gre, and, so...</td>\n",
       "      <td>[select, menu, was, gre, so, wer, pric]</td>\n",
       "      <td>[select, menu, gre, pric]</td>\n",
       "      <td>[select, menu, gre, pric]</td>\n",
       "    </tr>\n",
       "    <tr>\n",
       "      <th>4</th>\n",
       "      <td>[now, i, am, getting, angry, and, i, want, my,...</td>\n",
       "      <td>0</td>\n",
       "      <td>[now, i, getting, angry, i, damn, pho]</td>\n",
       "      <td>[now, i, am, getting, angry, and, i, want, my,...</td>\n",
       "      <td>[getting, angry, damn, pho]</td>\n",
       "      <td>[getting, angry, want, damn, pho]</td>\n",
       "      <td>[now, i, getting, angry, i, damn, pho]</td>\n",
       "      <td>[now, i, am, getting, angry, and, i, want, my,...</td>\n",
       "      <td>[now, i, am, getting, angry, and, i, want, my,...</td>\n",
       "      <td>[now, i, getting, angry, i, damn, pho]</td>\n",
       "      <td>...</td>\n",
       "      <td>[get, angri, want, damn, pho]</td>\n",
       "      <td>[get, angri, damn, pho]</td>\n",
       "      <td>[now, i, am, get, angri, and, i, want, my, dam...</td>\n",
       "      <td>[now, i, get, angri, i, damn, pho]</td>\n",
       "      <td>[get, angri, want, damn, pho]</td>\n",
       "      <td>[get, angri, damn, pho]</td>\n",
       "      <td>[now, i, am, get, angry, and, i, want, my, dam...</td>\n",
       "      <td>[now, i, get, angry, i, damn, pho]</td>\n",
       "      <td>[get, angry, want, damn, pho]</td>\n",
       "      <td>[get, angry, damn, pho]</td>\n",
       "    </tr>\n",
       "  </tbody>\n",
       "</table>\n",
       "<p>5 rows × 24 columns</p>\n",
       "</div>"
      ],
      "text/plain": [
       "                                             reviews  sentiment  \\\n",
       "0                             [crust, is, not, good]          0   \n",
       "1  [not, tasty, and, the, texture, was, just, nasty]          0   \n",
       "2  [stopped, by, during, the, late, may, bank, ho...          1   \n",
       "3  [the, selection, on, the, menu, was, great, an...          1   \n",
       "4  [now, i, am, getting, angry, and, i, want, my,...          0   \n",
       "\n",
       "                                                posr  \\\n",
       "0                             [crust, is, not, good]   \n",
       "1            [not, tasty, texture, was, just, nasty]   \n",
       "2  [stopped, late, bank, holiday, rick, steve, re...   \n",
       "3    [selection, menu, was, great, so, were, prices]   \n",
       "4             [now, i, getting, angry, i, damn, pho]   \n",
       "\n",
       "                                               nposr  \\\n",
       "0                             [crust, is, not, good]   \n",
       "1  [not, tasty, and, the, texture, was, just, nasty]   \n",
       "2  [stopped, by, during, the, late, may, bank, ho...   \n",
       "3  [the, selection, on, the, menu, was, great, an...   \n",
       "4  [now, i, am, getting, angry, and, i, want, my,...   \n",
       "\n",
       "                                           posr_stpd  \\\n",
       "0                                 [crust, not, good]   \n",
       "1                       [not, tasty, texture, nasty]   \n",
       "2  [stopped, late, bank, holiday, rick, steve, re...   \n",
       "3                   [selection, menu, great, prices]   \n",
       "4                        [getting, angry, damn, pho]   \n",
       "\n",
       "                                          nposr_stpd  \\\n",
       "0                                 [crust, not, good]   \n",
       "1                       [not, tasty, texture, nasty]   \n",
       "2  [stopped, late, may, bank, holiday, rick, stev...   \n",
       "3                   [selection, menu, great, prices]   \n",
       "4                  [getting, angry, want, damn, pho]   \n",
       "\n",
       "                                          posr_nstpd  \\\n",
       "0                             [crust, is, not, good]   \n",
       "1            [not, tasty, texture, was, just, nasty]   \n",
       "2  [stopped, late, bank, holiday, rick, steve, re...   \n",
       "3    [selection, menu, was, great, so, were, prices]   \n",
       "4             [now, i, getting, angry, i, damn, pho]   \n",
       "\n",
       "                                         nposr_nstpd  \\\n",
       "0                             [crust, is, not, good]   \n",
       "1  [not, tasty, and, the, texture, was, just, nasty]   \n",
       "2  [stopped, by, during, the, late, may, bank, ho...   \n",
       "3  [the, selection, on, the, menu, was, great, an...   \n",
       "4  [now, i, am, getting, angry, and, i, want, my,...   \n",
       "\n",
       "                                   nposr_nstpd_nstem  \\\n",
       "0                             [crust, is, not, good]   \n",
       "1  [not, tasty, and, the, texture, was, just, nasty]   \n",
       "2  [stopped, by, during, the, late, may, bank, ho...   \n",
       "3  [the, selection, on, the, menu, was, great, an...   \n",
       "4  [now, i, am, getting, angry, and, i, want, my,...   \n",
       "\n",
       "                                    posr_nstpd_nstem  \\\n",
       "0                             [crust, is, not, good]   \n",
       "1            [not, tasty, texture, was, just, nasty]   \n",
       "2  [stopped, late, bank, holiday, rick, steve, re...   \n",
       "3    [selection, menu, was, great, so, were, prices]   \n",
       "4             [now, i, getting, angry, i, damn, pho]   \n",
       "\n",
       "                         ...                          \\\n",
       "0                        ...                           \n",
       "1                        ...                           \n",
       "2                        ...                           \n",
       "3                        ...                           \n",
       "4                        ...                           \n",
       "\n",
       "                                     nposr_stpd_port  \\\n",
       "0                                 [crust, not, good]   \n",
       "1                        [not, tasti, textur, nasti]   \n",
       "2  [stop, late, may, bank, holiday, rick, steve, ...   \n",
       "3                       [select, menu, great, price]   \n",
       "4                      [get, angri, want, damn, pho]   \n",
       "\n",
       "                                      posr_stpd_port  \\\n",
       "0                                 [crust, not, good]   \n",
       "1                        [not, tasti, textur, nasti]   \n",
       "2  [stop, late, bank, holiday, rick, steve, recom...   \n",
       "3                       [select, menu, great, price]   \n",
       "4                            [get, angri, damn, pho]   \n",
       "\n",
       "                                    nposr_nstpd_snow  \\\n",
       "0                             [crust, is, not, good]   \n",
       "1   [not, tasti, and, the, textur, was, just, nasti]   \n",
       "2  [stop, by, dure, the, late, may, bank, holiday...   \n",
       "3  [the, select, on, the, menu, was, great, and, ...   \n",
       "4  [now, i, am, get, angri, and, i, want, my, dam...   \n",
       "\n",
       "                                     posr_nstpd_snow  \\\n",
       "0                             [crust, is, not, good]   \n",
       "1             [not, tasti, textur, was, just, nasti]   \n",
       "2  [stop, late, bank, holiday, rick, steve, recom...   \n",
       "3        [select, menu, was, great, so, were, price]   \n",
       "4                 [now, i, get, angri, i, damn, pho]   \n",
       "\n",
       "                                     nposr_stpd_snow  \\\n",
       "0                                 [crust, not, good]   \n",
       "1                        [not, tasti, textur, nasti]   \n",
       "2  [stop, late, may, bank, holiday, rick, steve, ...   \n",
       "3                       [select, menu, great, price]   \n",
       "4                      [get, angri, want, damn, pho]   \n",
       "\n",
       "                                      posr_stpd_snow  \\\n",
       "0                                 [crust, not, good]   \n",
       "1                        [not, tasti, textur, nasti]   \n",
       "2  [stop, late, bank, holiday, rick, steve, recom...   \n",
       "3                       [select, menu, great, price]   \n",
       "4                            [get, angri, damn, pho]   \n",
       "\n",
       "                                    nposr_nstpd_lanc  \\\n",
       "0                             [crust, is, not, good]   \n",
       "1     [not, tasty, and, the, text, was, just, nasty]   \n",
       "2  [stop, by, dur, the, lat, may, bank, holiday, ...   \n",
       "3  [the, select, on, the, menu, was, gre, and, so...   \n",
       "4  [now, i, am, get, angry, and, i, want, my, dam...   \n",
       "\n",
       "                                     posr_nstpd_lanc  \\\n",
       "0                             [crust, is, not, good]   \n",
       "1               [not, tasty, text, was, just, nasty]   \n",
       "2  [stop, lat, bank, holiday, rick, stev, recomme...   \n",
       "3            [select, menu, was, gre, so, wer, pric]   \n",
       "4                 [now, i, get, angry, i, damn, pho]   \n",
       "\n",
       "                                     nposr_stpd_lanc  \\\n",
       "0                                 [crust, not, good]   \n",
       "1                          [not, tasty, text, nasty]   \n",
       "2  [stop, lat, may, bank, holiday, rick, stev, re...   \n",
       "3                          [select, menu, gre, pric]   \n",
       "4                      [get, angry, want, damn, pho]   \n",
       "\n",
       "                                      posr_stpd_lanc  \n",
       "0                                 [crust, not, good]  \n",
       "1                          [not, tasty, text, nasty]  \n",
       "2  [stop, lat, bank, holiday, rick, stev, recomme...  \n",
       "3                          [select, menu, gre, pric]  \n",
       "4                            [get, angry, damn, pho]  \n",
       "\n",
       "[5 rows x 24 columns]"
      ]
     },
     "execution_count": 17,
     "metadata": {},
     "output_type": "execute_result"
    }
   ],
   "source": [
    "ps = nltk.PorterStemmer()\n",
    "ss = nltk.SnowballStemmer('english')\n",
    "ls = nltk.LancasterStemmer()\n",
    "\n",
    "# No Stemming\n",
    "df['nposr_nstpd_nstem'] = df['nposr_nstpd']\n",
    "df['posr_nstpd_nstem'] = df['posr_nstpd']\n",
    "df['nposr_stpd_nstem'] = df['nposr_stpd']\n",
    "df['posr_stpd_nstem'] = df['posr_stpd']\n",
    "# Porter\n",
    "df['nposr_nstpd_port'] = df['nposr_nstpd'].apply(lambda x: [ps.stem(y) for y in x])\n",
    "df['posr_nstpd_port'] = df['posr_nstpd'].apply(lambda x: [ps.stem(y) for y in x])\n",
    "df['nposr_stpd_port'] = df['nposr_stpd'].apply(lambda x: [ps.stem(y) for y in x])\n",
    "df['posr_stpd_port'] = df['posr_stpd'].apply(lambda x: [ps.stem(y) for y in x])\n",
    "# Snowball\n",
    "df['nposr_nstpd_snow'] = df['nposr_nstpd'].apply(lambda x: [ss.stem(y) for y in x])\n",
    "df['posr_nstpd_snow'] = df['posr_nstpd'].apply(lambda x: [ss.stem(y) for y in x])\n",
    "df['nposr_stpd_snow'] = df['nposr_stpd'].apply(lambda x: [ss.stem(y) for y in x])\n",
    "df['posr_stpd_snow'] = df['posr_stpd'].apply(lambda x: [ss.stem(y) for y in x])\n",
    "# Lancaster\n",
    "df['nposr_nstpd_lanc'] = df['nposr_nstpd'].apply(lambda x: [ls.stem(y) for y in x])\n",
    "df['posr_nstpd_lanc'] = df['posr_nstpd'].apply(lambda x: [ls.stem(y) for y in x])\n",
    "df['nposr_stpd_lanc'] = df['nposr_stpd'].apply(lambda x: [ls.stem(y) for y in x])\n",
    "df['posr_stpd_lanc'] = df['posr_stpd'].apply(lambda x: [ls.stem(y) for y in x])\n",
    "\n",
    "df.head()"
   ]
  },
  {
   "cell_type": "markdown",
   "metadata": {
    "deletable": true,
    "editable": true
   },
   "source": [
    "### Output to a file"
   ]
  },
  {
   "cell_type": "code",
   "execution_count": 18,
   "metadata": {
    "collapsed": true,
    "deletable": true,
    "editable": true
   },
   "outputs": [],
   "source": [
    "# put final to csv just in case need a file\n",
    "df.to_csv('final.csv')"
   ]
  },
  {
   "cell_type": "markdown",
   "metadata": {
    "deletable": true,
    "editable": true
   },
   "source": [
    "## Step 4 : Test and Evaluate with Logistic Regression, Naive Bayes, k-fold"
   ]
  },
  {
   "cell_type": "markdown",
   "metadata": {
    "collapsed": true,
    "deletable": true,
    "editable": true
   },
   "source": [
    "### Import Essential Libraries"
   ]
  },
  {
   "cell_type": "code",
   "execution_count": 19,
   "metadata": {
    "collapsed": false,
    "deletable": true,
    "editable": true
   },
   "outputs": [
    {
     "name": "stdout",
     "output_type": "stream",
     "text": [
      "Populating the interactive namespace from numpy and matplotlib\n"
     ]
    }
   ],
   "source": [
    "%pylab inline\n",
    "import pandas as pd"
   ]
  },
  {
   "cell_type": "markdown",
   "metadata": {
    "deletable": true,
    "editable": true
   },
   "source": [
    "### Import sklearn and NLTK Library and Modules"
   ]
  },
  {
   "cell_type": "code",
   "execution_count": 20,
   "metadata": {
    "collapsed": false,
    "deletable": true,
    "editable": true
   },
   "outputs": [
    {
     "name": "stderr",
     "output_type": "stream",
     "text": [
      "/Library/Frameworks/Python.framework/Versions/2.7/lib/python2.7/site-packages/nltk/twitter/__init__.py:20: UserWarning: The twython library has not been installed. Some functionality from the twitter package will not be available.\n",
      "  warnings.warn(\"The twython library has not been installed. \"\n"
     ]
    }
   ],
   "source": [
    "from nltk.classify import NaiveBayesClassifier\n",
    ">>> from nltk.corpus import subjectivity\n",
    ">>> from nltk.sentiment import SentimentAnalyzer\n",
    ">>> from nltk.sentiment.util import *\n",
    "\n",
    "from sklearn.linear_model import LogisticRegression\n",
    "from nltk.classify.scikitlearn import SklearnClassifier\n",
    "logreg = SklearnClassifier(LogisticRegression())"
   ]
  },
  {
   "cell_type": "markdown",
   "metadata": {
    "deletable": true,
    "editable": true
   },
   "source": [
    "### Function to Convert the Data into a Feature Set"
   ]
  },
  {
   "cell_type": "code",
   "execution_count": 21,
   "metadata": {
    "collapsed": true,
    "deletable": true,
    "editable": true
   },
   "outputs": [],
   "source": [
    "## Transform data into list of ([tokens],sentiment label)\n",
    "def createTrainingDataNLTK(sentences,labels):\n",
    "    rdata = np.vstack([sentences,labels])\n",
    "    rdata = np.transpose(rdata)\n",
    "    data = list();\n",
    "    for i in range(0,len(rdata)):\n",
    "        tokens = rdata[i][0].split(\" \")\n",
    "        d_tuple = (tokens, rdata[i][1]);\n",
    "        data.append(d_tuple)\n",
    "    return data;"
   ]
  },
  {
   "cell_type": "markdown",
   "metadata": {
    "deletable": true,
    "editable": true
   },
   "source": [
    "## Create the Training Data"
   ]
  },
  {
   "cell_type": "code",
   "execution_count": 22,
   "metadata": {
    "collapsed": true,
    "deletable": true,
    "editable": true
   },
   "outputs": [],
   "source": [
    "# create a list of all possible feature reduction permutations in the order of stopword removal_pos_stem\n",
    "featurereductions = ['nposr_nstpd_nstem', 'posr_nstpd_nstem', \n",
    "                     'nposr_stpd_nstem', 'posr_stpd_nstem', \n",
    "                     'nposr_nstpd_port', 'nposr_nstpd_snow', 'nposr_nstpd_lanc', 'nposr_stpd_port', 'nposr_stpd_snow', 'nposr_stpd_lanc',\n",
    "                     'posr_nstpd_port', 'posr_nstpd_snow', 'posr_nstpd_lanc', 'posr_stpd_port', 'posr_stpd_snow', 'posr_stpd_lanc']"
   ]
  },
  {
   "cell_type": "code",
   "execution_count": 23,
   "metadata": {
    "collapsed": true,
    "deletable": true,
    "editable": true
   },
   "outputs": [],
   "source": [
    "# merge the words into sentence to use current implementation of createTrainingData\n",
    "def create_nltk_train_data (feature_reduction):\n",
    "    df['sentences'] = df[feature_reduction].apply(lambda x: \" \".join(x).encode('UTF-8'))\n",
    "    x_label = \"sentences\"\n",
    "    y_label = \"sentiment\"\n",
    "    nltk_train_data = createTrainingDataNLTK(df[x_label],df[y_label])\n",
    "    return nltk_train_data"
   ]
  },
  {
   "cell_type": "markdown",
   "metadata": {
    "deletable": true,
    "editable": true
   },
   "source": [
    "## Functions to Train the Classifers and Run it Against Test Data"
   ]
  },
  {
   "cell_type": "code",
   "execution_count": 24,
   "metadata": {
    "collapsed": true,
    "deletable": true,
    "editable": true
   },
   "outputs": [],
   "source": [
    "# returns the accuracy of the test data for Naive Bayes\n",
    "# when predicted against fitted training data\n",
    "def train1(training_set,test_set):\n",
    "    \n",
    "    sentim_analyzer = SentimentAnalyzer()\n",
    "    all_words_neg = sentim_analyzer.all_words([mark_negation(doc) for doc in training_set])\n",
    "    unigram_feats = sentim_analyzer.unigram_word_feats(all_words_neg, min_freq=4)\n",
    "    sentim_analyzer.add_feat_extractor(extract_unigram_feats, unigrams=unigram_feats)\n",
    "    \n",
    "    training_set = sentim_analyzer.apply_features(training_set)\n",
    "    test_set = sentim_analyzer.apply_features(test_set)\n",
    "                                              \n",
    "    trainer = NaiveBayesClassifier.train\n",
    "    classifier = sentim_analyzer.train(trainer, training_set)\n",
    "    results = sentim_analyzer.evaluate(test_set).items()                             \n",
    "    return results"
   ]
  },
  {
   "cell_type": "code",
   "execution_count": 25,
   "metadata": {
    "collapsed": true,
    "deletable": true,
    "editable": true
   },
   "outputs": [],
   "source": [
    "# returns the accuracy of the test data for Logistic Regression\n",
    "# when predicted against fitted training data\n",
    "def train2(training_set,test_set):\n",
    "    \n",
    "    sentim_analyzer = SentimentAnalyzer()\n",
    "    all_words_neg = sentim_analyzer.all_words([mark_negation(doc) for doc in training_set])\n",
    "    unigram_feats = sentim_analyzer.unigram_word_feats(all_words_neg, min_freq=4)\n",
    "    sentim_analyzer.add_feat_extractor(extract_unigram_feats, unigrams=unigram_feats)\n",
    "    \n",
    "    training_set = sentim_analyzer.apply_features(training_set)\n",
    "    test_set = sentim_analyzer.apply_features(test_set)\n",
    "                                              \n",
    "    trainer = logreg.train\n",
    "    classifier = sentim_analyzer.train(trainer, training_set)\n",
    "    results = sentim_analyzer.evaluate(test_set).items()                             \n",
    "    return results"
   ]
  },
  {
   "cell_type": "markdown",
   "metadata": {
    "deletable": true,
    "editable": true
   },
   "source": [
    "## K-Fold Cross Validation"
   ]
  },
  {
   "cell_type": "code",
   "execution_count": 26,
   "metadata": {
    "collapsed": true,
    "deletable": true,
    "editable": true
   },
   "outputs": [],
   "source": [
    "## A custom parser function to interpret results of training function\n",
    "def nltk_parser(results,summer):\n",
    "    for key,value in sorted(results):\n",
    "        #print('{0}: {1}'.format(key, value))\n",
    "        if key == \"Accuracy\": summer += value;\n",
    "    print\n",
    "    return summer"
   ]
  },
  {
   "cell_type": "code",
   "execution_count": 27,
   "metadata": {
    "collapsed": true,
    "deletable": true,
    "editable": true
   },
   "outputs": [],
   "source": [
    "## k-fold cross validation designed to be agnostic to training data and training function\n",
    "def k_fold_validation(k,data,train_func,parser):\n",
    "    \n",
    "    b_length = len(data)/k; # the testing bucket length\n",
    "    sum_acc = 0; # Use this for average accuracy\n",
    "    print k, \"- fold cross validation\"\n",
    "    print \"-----------------------------\"\n",
    "    for i in range(0,k):       \n",
    "        s_i = i*b_length; # testing interval start index\n",
    "        f_i = s_i + b_length; # testing interval end index\n",
    "        test_data = data[s_i:f_i]\n",
    "        train_data = data[0:s_i]+data[f_i:len(data)];\n",
    "        metrics = train_func(train_data,test_data);\n",
    "        sum_acc = parser(metrics,sum_acc);\n",
    "\n",
    "    print '\\nAverage Accuracy:', sum_acc / k;"
   ]
  },
  {
   "cell_type": "markdown",
   "metadata": {
    "deletable": true,
    "editable": true
   },
   "source": [
    "## K-Fold average accuracy"
   ]
  },
  {
   "cell_type": "code",
   "execution_count": 28,
   "metadata": {
    "collapsed": true,
    "deletable": true,
    "editable": true
   },
   "outputs": [],
   "source": [
    "## k-fold cross validation designed to be agnostic to training data and training function\n",
    "# Returns average accuracy\n",
    "def k_fold_validation_simple(k,data,train_func,parser):\n",
    "    b_length = len(data)/k; # the testing bucket length\n",
    "    sum_acc = 0; # Use this for average accuracy\n",
    "    for i in range(0,k):       \n",
    "        s_i = i*b_length; # testing interval start index\n",
    "        f_i = s_i + b_length; # testing interval end index\n",
    "        test_data = data[s_i:f_i]\n",
    "        train_data = data[0:s_i]+data[f_i:len(data)];\n",
    "        metrics = train_func(train_data,test_data);\n",
    "        sum_acc = parser(metrics,sum_acc);\n",
    "    return sum_acc / k;"
   ]
  },
  {
   "cell_type": "markdown",
   "metadata": {
    "deletable": true,
    "editable": true
   },
   "source": [
    "## Test Accuracy Using K-Fold Cross Validation"
   ]
  },
  {
   "cell_type": "markdown",
   "metadata": {
    "deletable": true,
    "editable": true
   },
   "source": [
    "# Naive Bayes"
   ]
  },
  {
   "cell_type": "code",
   "execution_count": 29,
   "metadata": {
    "collapsed": false,
    "deletable": true,
    "editable": true
   },
   "outputs": [
    {
     "name": "stdout",
     "output_type": "stream",
     "text": [
      "nposr_nstpd_nstem\n",
      "Training classifier\n",
      "Evaluating NaiveBayesClassifier results...\n",
      "\n",
      "Training classifier\n",
      "Evaluating NaiveBayesClassifier results...\n",
      "\n",
      "Training classifier\n",
      "Evaluating NaiveBayesClassifier results...\n",
      "\n",
      "Training classifier\n",
      "Evaluating NaiveBayesClassifier results...\n",
      "\n",
      "Training classifier\n",
      "Evaluating NaiveBayesClassifier results...\n",
      "\n",
      "0.749748743719\n",
      "posr_nstpd_nstem\n",
      "Training classifier\n",
      "Evaluating NaiveBayesClassifier results...\n",
      "\n",
      "Training classifier\n",
      "Evaluating NaiveBayesClassifier results...\n",
      "\n",
      "Training classifier\n",
      "Evaluating NaiveBayesClassifier results...\n",
      "\n",
      "Training classifier\n",
      "Evaluating NaiveBayesClassifier results...\n",
      "\n",
      "Training classifier\n",
      "Evaluating NaiveBayesClassifier results...\n",
      "\n",
      "0.734673366834\n",
      "nposr_stpd_nstem\n",
      "Training classifier\n",
      "Evaluating NaiveBayesClassifier results...\n",
      "\n",
      "Training classifier\n",
      "Evaluating NaiveBayesClassifier results...\n",
      "\n",
      "Training classifier\n",
      "Evaluating NaiveBayesClassifier results...\n",
      "\n",
      "Training classifier\n",
      "Evaluating NaiveBayesClassifier results...\n",
      "\n",
      "Training classifier\n",
      "Evaluating NaiveBayesClassifier results...\n",
      "\n",
      "0.723618090452\n",
      "posr_stpd_nstem\n",
      "Training classifier\n",
      "Evaluating NaiveBayesClassifier results...\n",
      "\n",
      "Training classifier\n",
      "Evaluating NaiveBayesClassifier results...\n",
      "\n",
      "Training classifier\n",
      "Evaluating NaiveBayesClassifier results...\n",
      "\n",
      "Training classifier\n",
      "Evaluating NaiveBayesClassifier results...\n",
      "\n",
      "Training classifier\n",
      "Evaluating NaiveBayesClassifier results...\n",
      "\n",
      "0.714572864322\n",
      "nposr_nstpd_port\n",
      "Training classifier\n",
      "Evaluating NaiveBayesClassifier results...\n",
      "\n",
      "Training classifier\n",
      "Evaluating NaiveBayesClassifier results...\n",
      "\n",
      "Training classifier\n",
      "Evaluating NaiveBayesClassifier results...\n",
      "\n",
      "Training classifier\n",
      "Evaluating NaiveBayesClassifier results...\n",
      "\n",
      "Training classifier\n",
      "Evaluating NaiveBayesClassifier results...\n",
      "\n",
      "0.743718592965\n",
      "nposr_nstpd_snow\n",
      "Training classifier\n",
      "Evaluating NaiveBayesClassifier results...\n",
      "\n",
      "Training classifier\n",
      "Evaluating NaiveBayesClassifier results...\n",
      "\n",
      "Training classifier\n",
      "Evaluating NaiveBayesClassifier results...\n",
      "\n",
      "Training classifier\n",
      "Evaluating NaiveBayesClassifier results...\n",
      "\n",
      "Training classifier\n",
      "Evaluating NaiveBayesClassifier results...\n",
      "\n",
      "0.741708542714\n",
      "nposr_nstpd_lanc\n",
      "Training classifier\n",
      "Evaluating NaiveBayesClassifier results...\n",
      "\n",
      "Training classifier\n",
      "Evaluating NaiveBayesClassifier results...\n",
      "\n",
      "Training classifier\n",
      "Evaluating NaiveBayesClassifier results...\n",
      "\n",
      "Training classifier\n",
      "Evaluating NaiveBayesClassifier results...\n",
      "\n",
      "Training classifier\n",
      "Evaluating NaiveBayesClassifier results...\n",
      "\n",
      "0.740703517588\n",
      "nposr_stpd_port\n",
      "Training classifier\n",
      "Evaluating NaiveBayesClassifier results...\n",
      "\n",
      "Training classifier\n",
      "Evaluating NaiveBayesClassifier results...\n",
      "\n",
      "Training classifier\n",
      "Evaluating NaiveBayesClassifier results...\n",
      "\n",
      "Training classifier\n",
      "Evaluating NaiveBayesClassifier results...\n",
      "\n",
      "Training classifier\n",
      "Evaluating NaiveBayesClassifier results...\n",
      "\n",
      "0.72864321608\n",
      "nposr_stpd_snow\n",
      "Training classifier\n",
      "Evaluating NaiveBayesClassifier results...\n",
      "\n",
      "Training classifier\n",
      "Evaluating NaiveBayesClassifier results...\n",
      "\n",
      "Training classifier\n",
      "Evaluating NaiveBayesClassifier results...\n",
      "\n",
      "Training classifier\n",
      "Evaluating NaiveBayesClassifier results...\n",
      "\n",
      "Training classifier\n",
      "Evaluating NaiveBayesClassifier results...\n",
      "\n",
      "0.726633165829\n",
      "nposr_stpd_lanc\n",
      "Training classifier\n",
      "Evaluating NaiveBayesClassifier results...\n",
      "\n",
      "Training classifier\n",
      "Evaluating NaiveBayesClassifier results...\n",
      "\n",
      "Training classifier\n",
      "Evaluating NaiveBayesClassifier results...\n",
      "\n",
      "Training classifier\n",
      "Evaluating NaiveBayesClassifier results...\n",
      "\n",
      "Training classifier\n",
      "Evaluating NaiveBayesClassifier results...\n",
      "\n",
      "0.732663316583\n",
      "posr_nstpd_port\n",
      "Training classifier\n",
      "Evaluating NaiveBayesClassifier results...\n",
      "\n",
      "Training classifier\n",
      "Evaluating NaiveBayesClassifier results...\n",
      "\n",
      "Training classifier\n",
      "Evaluating NaiveBayesClassifier results...\n",
      "\n",
      "Training classifier\n",
      "Evaluating NaiveBayesClassifier results...\n",
      "\n",
      "Training classifier\n",
      "Evaluating NaiveBayesClassifier results...\n",
      "\n",
      "0.732663316583\n",
      "posr_nstpd_snow\n",
      "Training classifier\n",
      "Evaluating NaiveBayesClassifier results...\n",
      "\n",
      "Training classifier\n",
      "Evaluating NaiveBayesClassifier results...\n",
      "\n",
      "Training classifier\n",
      "Evaluating NaiveBayesClassifier results...\n",
      "\n",
      "Training classifier\n",
      "Evaluating NaiveBayesClassifier results...\n",
      "\n",
      "Training classifier\n",
      "Evaluating NaiveBayesClassifier results...\n",
      "\n",
      "0.736683417085\n",
      "posr_nstpd_lanc\n",
      "Training classifier\n",
      "Evaluating NaiveBayesClassifier results...\n",
      "\n",
      "Training classifier\n",
      "Evaluating NaiveBayesClassifier results...\n",
      "\n",
      "Training classifier\n",
      "Evaluating NaiveBayesClassifier results...\n",
      "\n",
      "Training classifier\n",
      "Evaluating NaiveBayesClassifier results...\n",
      "\n",
      "Training classifier\n",
      "Evaluating NaiveBayesClassifier results...\n",
      "\n",
      "0.73567839196\n",
      "posr_stpd_port\n",
      "Training classifier\n",
      "Evaluating NaiveBayesClassifier results...\n",
      "\n",
      "Training classifier\n",
      "Evaluating NaiveBayesClassifier results...\n",
      "\n",
      "Training classifier\n",
      "Evaluating NaiveBayesClassifier results...\n",
      "\n",
      "Training classifier\n",
      "Evaluating NaiveBayesClassifier results...\n",
      "\n",
      "Training classifier\n",
      "Evaluating NaiveBayesClassifier results...\n",
      "\n",
      "0.713567839196\n",
      "posr_stpd_snow\n",
      "Training classifier\n",
      "Evaluating NaiveBayesClassifier results...\n",
      "\n",
      "Training classifier\n",
      "Evaluating NaiveBayesClassifier results...\n",
      "\n",
      "Training classifier\n",
      "Evaluating NaiveBayesClassifier results...\n",
      "\n",
      "Training classifier\n",
      "Evaluating NaiveBayesClassifier results...\n",
      "\n",
      "Training classifier\n",
      "Evaluating NaiveBayesClassifier results...\n",
      "\n",
      "0.711557788945\n",
      "posr_stpd_lanc\n",
      "Training classifier\n",
      "Evaluating NaiveBayesClassifier results...\n",
      "\n",
      "Training classifier\n",
      "Evaluating NaiveBayesClassifier results...\n",
      "\n",
      "Training classifier\n",
      "Evaluating NaiveBayesClassifier results...\n",
      "\n",
      "Training classifier\n",
      "Evaluating NaiveBayesClassifier results...\n",
      "\n",
      "Training classifier\n",
      "Evaluating NaiveBayesClassifier results...\n",
      "\n",
      "0.716582914573\n"
     ]
    }
   ],
   "source": [
    "K = 5; # Constant for K-fold cross validation\n",
    "accuracies =[]\n",
    "dict_metrics_nb = {}\n",
    "for i in range(0, len(featurereductions)):\n",
    "    nltk_train_data = create_nltk_train_data (featurereductions[i])\n",
    "    print featurereductions[i]\n",
    "    accuracies.append(k_fold_validation_simple(K,nltk_train_data,train1,nltk_parser))\n",
    "    # creates a dict with featurereduction techniques, accuracy, and feature counts\n",
    "    dict_metrics_nb.update({featurereductions[i]: accuracies[i]})\n",
    "    print accuracies[i]"
   ]
  },
  {
   "cell_type": "markdown",
   "metadata": {
    "deletable": true,
    "editable": true
   },
   "source": [
    "# Logistic Regression"
   ]
  },
  {
   "cell_type": "code",
   "execution_count": 31,
   "metadata": {
    "collapsed": false,
    "deletable": true,
    "editable": true
   },
   "outputs": [
    {
     "name": "stdout",
     "output_type": "stream",
     "text": [
      "nposr_nstpd_nstem\n",
      "Training classifier\n",
      "Evaluating SklearnClassifier results...\n",
      "\n",
      "Training classifier\n",
      "Evaluating SklearnClassifier results...\n",
      "\n",
      "Training classifier\n",
      "Evaluating SklearnClassifier results...\n",
      "\n",
      "Training classifier\n",
      "Evaluating SklearnClassifier results...\n",
      "\n",
      "Training classifier\n",
      "Evaluating SklearnClassifier results...\n",
      "\n",
      "0.761809045226\n",
      "posr_nstpd_nstem\n",
      "Training classifier\n",
      "Evaluating SklearnClassifier results...\n",
      "\n",
      "Training classifier\n",
      "Evaluating SklearnClassifier results...\n",
      "\n",
      "Training classifier\n",
      "Evaluating SklearnClassifier results...\n",
      "\n",
      "Training classifier\n",
      "Evaluating SklearnClassifier results...\n",
      "\n",
      "Training classifier\n",
      "Evaluating SklearnClassifier results...\n",
      "\n",
      "0.746733668342\n",
      "nposr_stpd_nstem\n",
      "Training classifier\n",
      "Evaluating SklearnClassifier results...\n",
      "\n",
      "Training classifier\n",
      "Evaluating SklearnClassifier results...\n",
      "\n",
      "Training classifier\n",
      "Evaluating SklearnClassifier results...\n",
      "\n",
      "Training classifier\n",
      "Evaluating SklearnClassifier results...\n",
      "\n",
      "Training classifier\n",
      "Evaluating SklearnClassifier results...\n",
      "\n",
      "0.74472361809\n",
      "posr_stpd_nstem\n",
      "Training classifier\n",
      "Evaluating SklearnClassifier results...\n",
      "\n",
      "Training classifier\n",
      "Evaluating SklearnClassifier results...\n",
      "\n",
      "Training classifier\n",
      "Evaluating SklearnClassifier results...\n",
      "\n",
      "Training classifier\n",
      "Evaluating SklearnClassifier results...\n",
      "\n",
      "Training classifier\n",
      "Evaluating SklearnClassifier results...\n",
      "\n",
      "0.745728643216\n",
      "nposr_nstpd_port\n",
      "Training classifier\n",
      "Evaluating SklearnClassifier results...\n",
      "\n",
      "Training classifier\n",
      "Evaluating SklearnClassifier results...\n",
      "\n",
      "Training classifier\n",
      "Evaluating SklearnClassifier results...\n",
      "\n",
      "Training classifier\n",
      "Evaluating SklearnClassifier results...\n",
      "\n",
      "Training classifier\n",
      "Evaluating SklearnClassifier results...\n",
      "\n",
      "0.76783919598\n",
      "nposr_nstpd_snow\n",
      "Training classifier\n",
      "Evaluating SklearnClassifier results...\n",
      "\n",
      "Training classifier\n",
      "Evaluating SklearnClassifier results...\n",
      "\n",
      "Training classifier\n",
      "Evaluating SklearnClassifier results...\n",
      "\n",
      "Training classifier\n",
      "Evaluating SklearnClassifier results...\n",
      "\n",
      "Training classifier\n",
      "Evaluating SklearnClassifier results...\n",
      "\n",
      "0.768844221106\n",
      "nposr_nstpd_lanc\n",
      "Training classifier\n",
      "Evaluating SklearnClassifier results...\n",
      "\n",
      "Training classifier\n",
      "Evaluating SklearnClassifier results...\n",
      "\n",
      "Training classifier\n",
      "Evaluating SklearnClassifier results...\n",
      "\n",
      "Training classifier\n",
      "Evaluating SklearnClassifier results...\n",
      "\n",
      "Training classifier\n",
      "Evaluating SklearnClassifier results...\n",
      "\n",
      "0.763819095477\n",
      "nposr_stpd_port\n",
      "Training classifier\n",
      "Evaluating SklearnClassifier results...\n",
      "\n",
      "Training classifier\n",
      "Evaluating SklearnClassifier results...\n",
      "\n",
      "Training classifier\n",
      "Evaluating SklearnClassifier results...\n",
      "\n",
      "Training classifier\n",
      "Evaluating SklearnClassifier results...\n",
      "\n",
      "Training classifier\n",
      "Evaluating SklearnClassifier results...\n",
      "\n",
      "0.745728643216\n",
      "nposr_stpd_snow\n",
      "Training classifier\n",
      "Evaluating SklearnClassifier results...\n",
      "\n",
      "Training classifier\n",
      "Evaluating SklearnClassifier results...\n",
      "\n",
      "Training classifier\n",
      "Evaluating SklearnClassifier results...\n",
      "\n",
      "Training classifier\n",
      "Evaluating SklearnClassifier results...\n",
      "\n",
      "Training classifier\n",
      "Evaluating SklearnClassifier results...\n",
      "\n",
      "0.74472361809\n",
      "nposr_stpd_lanc\n",
      "Training classifier\n",
      "Evaluating SklearnClassifier results...\n",
      "\n",
      "Training classifier\n",
      "Evaluating SklearnClassifier results...\n",
      "\n",
      "Training classifier\n",
      "Evaluating SklearnClassifier results...\n",
      "\n",
      "Training classifier\n",
      "Evaluating SklearnClassifier results...\n",
      "\n",
      "Training classifier\n",
      "Evaluating SklearnClassifier results...\n",
      "\n",
      "0.74472361809\n",
      "posr_nstpd_port\n",
      "Training classifier\n",
      "Evaluating SklearnClassifier results...\n",
      "\n",
      "Training classifier\n",
      "Evaluating SklearnClassifier results...\n",
      "\n",
      "Training classifier\n",
      "Evaluating SklearnClassifier results...\n",
      "\n",
      "Training classifier\n",
      "Evaluating SklearnClassifier results...\n",
      "\n",
      "Training classifier\n",
      "Evaluating SklearnClassifier results...\n",
      "\n",
      "0.755778894472\n",
      "posr_nstpd_snow\n",
      "Training classifier\n",
      "Evaluating SklearnClassifier results...\n",
      "\n",
      "Training classifier\n",
      "Evaluating SklearnClassifier results...\n",
      "\n",
      "Training classifier\n",
      "Evaluating SklearnClassifier results...\n",
      "\n",
      "Training classifier\n",
      "Evaluating SklearnClassifier results...\n",
      "\n",
      "Training classifier\n",
      "Evaluating SklearnClassifier results...\n",
      "\n",
      "0.753768844221\n",
      "posr_nstpd_lanc\n",
      "Training classifier\n",
      "Evaluating SklearnClassifier results...\n",
      "\n",
      "Training classifier\n",
      "Evaluating SklearnClassifier results...\n",
      "\n",
      "Training classifier\n",
      "Evaluating SklearnClassifier results...\n",
      "\n",
      "Training classifier\n",
      "Evaluating SklearnClassifier results...\n",
      "\n",
      "Training classifier\n",
      "Evaluating SklearnClassifier results...\n",
      "\n",
      "0.763819095477\n",
      "posr_stpd_port\n",
      "Training classifier\n",
      "Evaluating SklearnClassifier results...\n",
      "\n",
      "Training classifier\n",
      "Evaluating SklearnClassifier results...\n",
      "\n",
      "Training classifier\n",
      "Evaluating SklearnClassifier results...\n",
      "\n",
      "Training classifier\n",
      "Evaluating SklearnClassifier results...\n",
      "\n",
      "Training classifier\n",
      "Evaluating SklearnClassifier results...\n",
      "\n",
      "0.74472361809\n",
      "posr_stpd_snow\n",
      "Training classifier\n",
      "Evaluating SklearnClassifier results...\n",
      "\n",
      "Training classifier\n",
      "Evaluating SklearnClassifier results...\n",
      "\n",
      "Training classifier\n",
      "Evaluating SklearnClassifier results...\n",
      "\n",
      "Training classifier\n",
      "Evaluating SklearnClassifier results...\n",
      "\n",
      "Training classifier\n",
      "Evaluating SklearnClassifier results...\n",
      "\n",
      "0.742713567839\n",
      "posr_stpd_lanc\n",
      "Training classifier\n",
      "Evaluating SklearnClassifier results...\n",
      "\n",
      "Training classifier\n",
      "Evaluating SklearnClassifier results...\n",
      "\n",
      "Training classifier\n",
      "Evaluating SklearnClassifier results...\n",
      "\n",
      "Training classifier\n",
      "Evaluating SklearnClassifier results...\n",
      "\n",
      "Training classifier\n",
      "Evaluating SklearnClassifier results...\n",
      "\n",
      "0.746733668342\n"
     ]
    }
   ],
   "source": [
    "K = 5; # Constant for K-fold cross validation\n",
    "accuracies2 = []\n",
    "dict_metrics_lr = {}\n",
    "for i in range(0, len(featurereductions)):\n",
    "    nltk_train_data = create_nltk_train_data (featurereductions[i])\n",
    "    print featurereductions[i]\n",
    "    accuracies2.append(k_fold_validation_simple(K,nltk_train_data,train2,nltk_parser))\n",
    "    # creates a dict with featurereduction techniques, accuracy, and feature counts\n",
    "    dict_metrics_lr.update({featurereductions[i]: accuracies2[i]})\n",
    "    print accuracies2[i]"
   ]
  },
  {
   "cell_type": "markdown",
   "metadata": {
    "deletable": true,
    "editable": true
   },
   "source": [
    "## Final Visualization"
   ]
  },
  {
   "cell_type": "code",
   "execution_count": 32,
   "metadata": {
    "collapsed": true,
    "deletable": true,
    "editable": true
   },
   "outputs": [],
   "source": [
    "# Store accuracy from K-fold testing step\n",
    "nb_df = pd.DataFrame.from_dict(dict_metrics_nb, orient='index')\n",
    "lr_df = pd.DataFrame.from_dict(dict_metrics_lr, orient='index')"
   ]
  },
  {
   "cell_type": "code",
   "execution_count": 33,
   "metadata": {
    "collapsed": true,
    "deletable": true,
    "editable": true
   },
   "outputs": [],
   "source": [
    "# Add column for the number of unique features/words\n",
    "nb_df['indices'] = nb_df.index.values \n",
    "lr_df['indices'] = lr_df.index.values\n",
    "nb_df['feature'] = nb_df['indices'].apply(lambda x: count_unique(df[x]))\n",
    "lr_df['feature'] = lr_df['indices'].apply(lambda x: count_unique(df[x]))"
   ]
  },
  {
   "cell_type": "code",
   "execution_count": 34,
   "metadata": {
    "collapsed": true,
    "deletable": true,
    "editable": true
   },
   "outputs": [],
   "source": [
    "# Rename the columns\n",
    "nb_df.columns = ['acc', 'indices', 'features']\n",
    "lr_df.columns = ['acc', 'indices', 'features']"
   ]
  },
  {
   "cell_type": "code",
   "execution_count": 35,
   "metadata": {
    "collapsed": false,
    "deletable": true,
    "editable": true
   },
   "outputs": [
    {
     "data": {
      "text/plain": [
       "<matplotlib.collections.PathCollection at 0x10c1598d0>"
      ]
     },
     "execution_count": 35,
     "metadata": {},
     "output_type": "execute_result"
    },
    {
     "data": {
      "image/png": "[encoded data removed]",
      "text/plain": [
       "<matplotlib.figure.Figure at 0x10c194f10>"
      ]
     },
     "metadata": {},
     "output_type": "display_data"
    }
   ],
   "source": [
    "# Create Naive Bayes Visualization\n",
    "final_nb = plt.subplot()\n",
    "x = nb_df['features']\n",
    "y = nb_df['acc']\n",
    "\n",
    "final_nb.set_xlabel(\"Number of Unique Words/Features\")\n",
    "final_nb.set_ylabel(\"% Accuracy (5 K-Fold Validation)\")\n",
    "final_nb.set_title(\"Naive Bayes: Feature to Accuracy Scatterplot\")\n",
    "\n",
    "final_nb.scatter(x,y)"
   ]
  },
  {
   "cell_type": "markdown",
   "metadata": {
    "deletable": true,
    "editable": true
   },
   "source": [
    "Interpretation of above graph: The highest accuracy data set was created doing nothing to it. The highest and uppermost data point represents the dataset nposr_nstpd_nstem which for this case has the highest accuracy of 75.0%"
   ]
  },
  {
   "cell_type": "code",
   "execution_count": 36,
   "metadata": {
    "collapsed": false,
    "deletable": true,
    "editable": true
   },
   "outputs": [
    {
     "data": {
      "text/plain": [
       "<matplotlib.collections.PathCollection at 0x11166b950>"
      ]
     },
     "execution_count": 36,
     "metadata": {},
     "output_type": "execute_result"
    },
    {
     "data": {
      "image/png": "[encoded data removed]",
      "text/plain": [
       "<matplotlib.figure.Figure at 0x10c2b1490>"
      ]
     },
     "metadata": {},
     "output_type": "display_data"
    }
   ],
   "source": [
    "# Create Logistic Regression Visualization\n",
    "final_lr = plt.subplot()\n",
    "x = lr_df['features']\n",
    "y = lr_df['acc']\n",
    "\n",
    "final_lr.set_xlabel(\"Number of Unique Words/Features\")\n",
    "final_lr.set_ylabel(\"% Accuracy (5 K-Fold Validation)\")\n",
    "final_lr.set_title(\"Logistic Regression: Feature to Accuracy Scatterplot\")\n",
    "\n",
    "final_lr.scatter(x,y)"
   ]
  },
  {
   "cell_type": "markdown",
   "metadata": {
    "deletable": true,
    "editable": true
   },
   "source": [
    "Interpretation of above graph: The highest accuracy data set was created by just stemming with the snowball stemmer. The highest data point occurs at about 1700 Unique Words and is represented by nposr_nstpd_snow which for this case has the highest accuracy of 76.9%"
   ]
  },
  {
   "cell_type": "markdown",
   "metadata": {
    "deletable": true,
    "editable": true
   },
   "source": [
    "## Conclusion\n",
    "Overall we have seen that logistic regression generally performs better than naive bayes on our yelp data set. In terms of feature reduction, it only improved accuracy for logistic regression and was highest using only stemmers, snowball being the most effective overall with 76.9% accuracy."
   ]
  },
  {
   "cell_type": "code",
   "execution_count": null,
   "metadata": {
    "collapsed": true,
    "deletable": true,
    "editable": true
   },
   "outputs": [],
   "source": []
  }
 ],
 "metadata": {
  "kernelspec": {
   "display_name": "Python 2",
   "language": "python",
   "name": "python2"
  },
  "language_info": {
   "codemirror_mode": {
    "name": "ipython",
    "version": 2
   },
   "file_extension": ".py",
   "mimetype": "text/x-python",
   "name": "python",
   "nbconvert_exporter": "python",
   "pygments_lexer": "ipython2",
   "version": "2.7.10"
  }
 },
 "nbformat": 4,
 "nbformat_minor": 2
}
